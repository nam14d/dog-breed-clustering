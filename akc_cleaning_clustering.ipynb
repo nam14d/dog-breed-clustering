{
 "metadata": {
  "language_info": {
   "codemirror_mode": {
    "name": "ipython",
    "version": 3
   },
   "file_extension": ".py",
   "mimetype": "text/x-python",
   "name": "python",
   "nbconvert_exporter": "python",
   "pygments_lexer": "ipython3",
   "version": "3.8.3-final"
  },
  "orig_nbformat": 2,
  "kernelspec": {
   "name": "python383jvsc74a57bd0dca0ade3e726a953b501b15e8e990130d2b7799f14cfd9f4271676035ebe5511",
   "display_name": "Python 3.8.3 64-bit ('base': conda)"
  }
 },
 "nbformat": 4,
 "nbformat_minor": 2,
 "cells": [
  {
   "cell_type": "code",
   "execution_count": null,
   "metadata": {},
   "outputs": [],
   "source": [
    "import numpy as np\n",
    "import pandas as pd\n",
    "import matplotlib.pyplot as plt\n",
    "import seaborn as sns"
   ]
  },
  {
   "cell_type": "code",
   "execution_count": 47,
   "metadata": {},
   "outputs": [],
   "source": [
    "df = pd.read_csv('./dog_breeds.csv')"
   ]
  },
  {
   "cell_type": "code",
   "execution_count": 48,
   "metadata": {},
   "outputs": [],
   "source": [
    "df['popularity'] = df['popularity'].str.extract(r'(\\d\\d\\d)')\n",
    "\n",
    "\n",
    "df['min_life_exp'] = df['life_exp'].str.extract(r'^(\\d\\d)')\n",
    "df['max_life_expectancy'] = df['life_exp'].str.extract(r'-(\\d\\d)')\n",
    "df.drop('life_exp', axis = 1, inplace = True)"
   ]
  },
  {
   "cell_type": "code",
   "execution_count": 49,
   "metadata": {},
   "outputs": [
    {
     "output_type": "execute_result",
     "data": {
      "text/plain": [
       "              breed                           attribute_labels popularity  \\\n",
       "0     affenpinscher        Confident, Famously Funny, Fearless        148   \n",
       "1      afghan-hound  Dignified, Profoundly Loyal, Aristocratic        113   \n",
       "2  airedale-terrier               Friendly, Clever, Courageous        197   \n",
       "3             akita    Courageous, Dignified, Profoundly Loyal        197   \n",
       "4  alaskan-klee-kai               Loyal, Intelligent, Vigilant        NaN   \n",
       "\n",
       "                                              height  \\\n",
       "0                                      9-11.5 inches   \n",
       "1                                       25-27 inches   \n",
       "2                                          23 inches   \n",
       "3         26-28 inches (male), 24-26 inches (female)   \n",
       "4  13 inches and under (Toy), 13-15 inches (Minia...   \n",
       "\n",
       "                                              weight  \\\n",
       "0                                        7-10 pounds   \n",
       "1                                       50-60 pounds   \n",
       "2                                       50-70 pounds   \n",
       "3      100-130 pounds (male), 70-100 pounds (female)   \n",
       "4  6-12 lbs (Toy), 10-18 lbs (Miniature), 16-25 l...   \n",
       "\n",
       "                      group  \\\n",
       "0                 Toy Group   \n",
       "1               Hound Group   \n",
       "2             Terrier Group   \n",
       "3             Working Group   \n",
       "4  Foundation Stock Service   \n",
       "\n",
       "                                           image_url  \\\n",
       "0  https://s3.amazonaws.com/cdn-origin-etr.akc.or...   \n",
       "1  https://s3.amazonaws.com/cdn-origin-etr.akc.or...   \n",
       "2  https://s3.amazonaws.com/cdn-origin-etr.akc.or...   \n",
       "3  https://s3.amazonaws.com/cdn-origin-etr.akc.or...   \n",
       "4  https://s3.amazonaws.com/cdn-origin-etr.akc.or...   \n",
       "\n",
       "                                          puppy_link  \\\n",
       "0  https://marketplace.akc.org/puppies/affenpinscher   \n",
       "1   https://marketplace.akc.org/puppies/afghan-hound   \n",
       "2  https://marketplace.akc.org/puppies/airedale-t...   \n",
       "3          https://marketplace.akc.org/puppies/akita   \n",
       "4  https://marketplace.akc.org/puppies/alaskan-kl...   \n",
       "\n",
       "          grooming_frequency    shedding      energy_level     trainability  \\\n",
       "0  2-3 Times a Week Brushing    Seasonal  Regular Exercise    Easy Training   \n",
       "1             Daily Brushing  Infrequent         Energetic  May be Stubborn   \n",
       "2  2-3 Times a Week Brushing  Occasional  Regular Exercise  Eager to Please   \n",
       "3             Daily Brushing    Seasonal         Energetic  Eager to Please   \n",
       "4            Weekly Brushing    Seasonal         Energetic        Agreeable   \n",
       "\n",
       "                  demeanor                                             colors  \\\n",
       "0                 Outgoing  ['Belge', 'Black', 'Black & Silver', 'Black & ...   \n",
       "1               Aloof/Wary  ['Black', 'Black & Silver', 'Black & Tan', 'Bl...   \n",
       "2                 Friendly                   ['Black & Tan', 'Grizzle & Tan']   \n",
       "3         Alert/Responsive  ['Black', 'Brown Brindle', 'Brown, Black Overl...   \n",
       "4  Reserved with Strangers   ['Black & White', 'Gray & White', 'Red & White']   \n",
       "\n",
       "                                                mask  \\\n",
       "0                                     ['Black Mask']   \n",
       "1  ['Black Mask', 'Brindle', 'Brindle Black Mask'...   \n",
       "2                                                 []   \n",
       "3  ['Black Mask, White Markings', 'Black & White ...   \n",
       "4                                                 []   \n",
       "\n",
       "                            rescue_link min_life_exp max_life_expectancy  \n",
       "0        https://www.affenpinscher.org/           12                  15  \n",
       "1  https://afghanhoundclubofamerica.org           12                  15  \n",
       "2                  https://airedale.org           11                  14  \n",
       "3                 http://akitaclub.org/           10                  13  \n",
       "4               https://www.akkcoa.org/           13                  16  "
      ],
      "text/html": "<div>\n<style scoped>\n    .dataframe tbody tr th:only-of-type {\n        vertical-align: middle;\n    }\n\n    .dataframe tbody tr th {\n        vertical-align: top;\n    }\n\n    .dataframe thead th {\n        text-align: right;\n    }\n</style>\n<table border=\"1\" class=\"dataframe\">\n  <thead>\n    <tr style=\"text-align: right;\">\n      <th></th>\n      <th>breed</th>\n      <th>attribute_labels</th>\n      <th>popularity</th>\n      <th>height</th>\n      <th>weight</th>\n      <th>group</th>\n      <th>image_url</th>\n      <th>puppy_link</th>\n      <th>grooming_frequency</th>\n      <th>shedding</th>\n      <th>energy_level</th>\n      <th>trainability</th>\n      <th>demeanor</th>\n      <th>colors</th>\n      <th>mask</th>\n      <th>rescue_link</th>\n      <th>min_life_exp</th>\n      <th>max_life_expectancy</th>\n    </tr>\n  </thead>\n  <tbody>\n    <tr>\n      <th>0</th>\n      <td>affenpinscher</td>\n      <td>Confident, Famously Funny, Fearless</td>\n      <td>148</td>\n      <td>9-11.5 inches</td>\n      <td>7-10 pounds</td>\n      <td>Toy Group</td>\n      <td>https://s3.amazonaws.com/cdn-origin-etr.akc.or...</td>\n      <td>https://marketplace.akc.org/puppies/affenpinscher</td>\n      <td>2-3 Times a Week Brushing</td>\n      <td>Seasonal</td>\n      <td>Regular Exercise</td>\n      <td>Easy Training</td>\n      <td>Outgoing</td>\n      <td>['Belge', 'Black', 'Black &amp; Silver', 'Black &amp; ...</td>\n      <td>['Black Mask']</td>\n      <td>https://www.affenpinscher.org/</td>\n      <td>12</td>\n      <td>15</td>\n    </tr>\n    <tr>\n      <th>1</th>\n      <td>afghan-hound</td>\n      <td>Dignified, Profoundly Loyal, Aristocratic</td>\n      <td>113</td>\n      <td>25-27 inches</td>\n      <td>50-60 pounds</td>\n      <td>Hound Group</td>\n      <td>https://s3.amazonaws.com/cdn-origin-etr.akc.or...</td>\n      <td>https://marketplace.akc.org/puppies/afghan-hound</td>\n      <td>Daily Brushing</td>\n      <td>Infrequent</td>\n      <td>Energetic</td>\n      <td>May be Stubborn</td>\n      <td>Aloof/Wary</td>\n      <td>['Black', 'Black &amp; Silver', 'Black &amp; Tan', 'Bl...</td>\n      <td>['Black Mask', 'Brindle', 'Brindle Black Mask'...</td>\n      <td>https://afghanhoundclubofamerica.org</td>\n      <td>12</td>\n      <td>15</td>\n    </tr>\n    <tr>\n      <th>2</th>\n      <td>airedale-terrier</td>\n      <td>Friendly, Clever, Courageous</td>\n      <td>197</td>\n      <td>23 inches</td>\n      <td>50-70 pounds</td>\n      <td>Terrier Group</td>\n      <td>https://s3.amazonaws.com/cdn-origin-etr.akc.or...</td>\n      <td>https://marketplace.akc.org/puppies/airedale-t...</td>\n      <td>2-3 Times a Week Brushing</td>\n      <td>Occasional</td>\n      <td>Regular Exercise</td>\n      <td>Eager to Please</td>\n      <td>Friendly</td>\n      <td>['Black &amp; Tan', 'Grizzle &amp; Tan']</td>\n      <td>[]</td>\n      <td>https://airedale.org</td>\n      <td>11</td>\n      <td>14</td>\n    </tr>\n    <tr>\n      <th>3</th>\n      <td>akita</td>\n      <td>Courageous, Dignified, Profoundly Loyal</td>\n      <td>197</td>\n      <td>26-28 inches (male), 24-26 inches (female)</td>\n      <td>100-130 pounds (male), 70-100 pounds (female)</td>\n      <td>Working Group</td>\n      <td>https://s3.amazonaws.com/cdn-origin-etr.akc.or...</td>\n      <td>https://marketplace.akc.org/puppies/akita</td>\n      <td>Daily Brushing</td>\n      <td>Seasonal</td>\n      <td>Energetic</td>\n      <td>Eager to Please</td>\n      <td>Alert/Responsive</td>\n      <td>['Black', 'Brown Brindle', 'Brown, Black Overl...</td>\n      <td>['Black Mask, White Markings', 'Black &amp; White ...</td>\n      <td>http://akitaclub.org/</td>\n      <td>10</td>\n      <td>13</td>\n    </tr>\n    <tr>\n      <th>4</th>\n      <td>alaskan-klee-kai</td>\n      <td>Loyal, Intelligent, Vigilant</td>\n      <td>NaN</td>\n      <td>13 inches and under (Toy), 13-15 inches (Minia...</td>\n      <td>6-12 lbs (Toy), 10-18 lbs (Miniature), 16-25 l...</td>\n      <td>Foundation Stock Service</td>\n      <td>https://s3.amazonaws.com/cdn-origin-etr.akc.or...</td>\n      <td>https://marketplace.akc.org/puppies/alaskan-kl...</td>\n      <td>Weekly Brushing</td>\n      <td>Seasonal</td>\n      <td>Energetic</td>\n      <td>Agreeable</td>\n      <td>Reserved with Strangers</td>\n      <td>['Black &amp; White', 'Gray &amp; White', 'Red &amp; White']</td>\n      <td>[]</td>\n      <td>https://www.akkcoa.org/</td>\n      <td>13</td>\n      <td>16</td>\n    </tr>\n  </tbody>\n</table>\n</div>"
     },
     "metadata": {},
     "execution_count": 49
    }
   ],
   "source": [
    "df.head()"
   ]
  },
  {
   "cell_type": "code",
   "execution_count": 34,
   "metadata": {},
   "outputs": [
    {
     "output_type": "execute_result",
     "data": {
      "text/plain": [
       "0                                        9-11.5 inches\n",
       "1                                         25-27 inches\n",
       "2                                            23 inches\n",
       "3           26-28 inches (male), 24-26 inches (female)\n",
       "4    13 inches and under (Toy), 13-15 inches (Minia...\n",
       "Name: height, dtype: object"
      ]
     },
     "metadata": {},
     "execution_count": 34
    }
   ],
   "source": [
    "df['height'].head()"
   ]
  },
  {
   "cell_type": "code",
   "execution_count": 43,
   "metadata": {},
   "outputs": [
    {
     "output_type": "execute_result",
     "data": {
      "text/plain": [
       "       0\n",
       "0     11\n",
       "1     27\n",
       "2    NaN\n",
       "3     28\n",
       "4     15\n",
       "..   ...\n",
       "277   25\n",
       "278   25\n",
       "279   14\n",
       "280   23\n",
       "281    8\n",
       "\n",
       "[282 rows x 1 columns]"
      ],
      "text/html": "<div>\n<style scoped>\n    .dataframe tbody tr th:only-of-type {\n        vertical-align: middle;\n    }\n\n    .dataframe tbody tr th {\n        vertical-align: top;\n    }\n\n    .dataframe thead th {\n        text-align: right;\n    }\n</style>\n<table border=\"1\" class=\"dataframe\">\n  <thead>\n    <tr style=\"text-align: right;\">\n      <th></th>\n      <th>0</th>\n    </tr>\n  </thead>\n  <tbody>\n    <tr>\n      <th>0</th>\n      <td>11</td>\n    </tr>\n    <tr>\n      <th>1</th>\n      <td>27</td>\n    </tr>\n    <tr>\n      <th>2</th>\n      <td>NaN</td>\n    </tr>\n    <tr>\n      <th>3</th>\n      <td>28</td>\n    </tr>\n    <tr>\n      <th>4</th>\n      <td>15</td>\n    </tr>\n    <tr>\n      <th>...</th>\n      <td>...</td>\n    </tr>\n    <tr>\n      <th>277</th>\n      <td>25</td>\n    </tr>\n    <tr>\n      <th>278</th>\n      <td>25</td>\n    </tr>\n    <tr>\n      <th>279</th>\n      <td>14</td>\n    </tr>\n    <tr>\n      <th>280</th>\n      <td>23</td>\n    </tr>\n    <tr>\n      <th>281</th>\n      <td>8</td>\n    </tr>\n  </tbody>\n</table>\n<p>282 rows × 1 columns</p>\n</div>"
     },
     "metadata": {},
     "execution_count": 43
    }
   ],
   "source": [
    "df['height'].str.extract(r'-(\\d*)')"
   ]
  },
  {
   "cell_type": "code",
   "execution_count": null,
   "metadata": {},
   "outputs": [],
   "source": [
    "X = df.drop(['image_url','puppy_link','rescue_link'], axis = 1)"
   ]
  },
  {
   "cell_type": "code",
   "execution_count": null,
   "metadata": {},
   "outputs": [],
   "source": []
  }
 ]
}